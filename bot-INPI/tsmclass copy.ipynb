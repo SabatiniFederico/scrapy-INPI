{
 "cells": [
  {
   "cell_type": "code",
   "execution_count": 2,
   "metadata": {},
   "outputs": [],
   "source": [
    "from selenium import webdriver\n",
    "from selenium.webdriver.support.ui import WebDriverWait\n",
    "from selenium.webdriver.support import expected_conditions\n",
    "from selenium.webdriver.common.by import By\n",
    "\n",
    "from selenium.webdriver.chrome.service import Service\n",
    "from selenium.webdriver.chrome.options import Options\n",
    "\n",
    "from webdriver_manager.chrome import ChromeDriverManager\n",
    "import time\n",
    "import pandas as pd\n",
    "import os"
   ]
  },
  {
   "cell_type": "code",
   "execution_count": 19,
   "metadata": {},
   "outputs": [
    {
     "name": "stdout",
     "output_type": "stream",
     "text": [
      "versión selenium: 4.19.0\n"
     ]
    },
    {
     "ename": "WebDriverException",
     "evalue": "Message: disconnected: unable to send message to renderer\n  (failed to check if window was closed: disconnected: not connected to DevTools)\n  (Session info: chrome=123.0.6312.86)\nStacktrace:\n#0 0x59a29703a8a3 <unknown>\n#1 0x59a296d308c6 <unknown>\n#2 0x59a296d177bf <unknown>\n#3 0x59a296d17745 <unknown>\n#4 0x59a296d16120 <unknown>\n#5 0x59a296d16b9f <unknown>\n#6 0x59a296d33e1f <unknown>\n#7 0x59a296d34796 <unknown>\n#8 0x59a296d37bce <unknown>\n#9 0x59a296d37c5c <unknown>\n#10 0x59a296d8214c <unknown>\n#11 0x59a296d8014e <unknown>\n#12 0x59a296d7db27 <unknown>\n#13 0x59a296d7ced3 <unknown>\n#14 0x59a296d70507 <unknown>\n#15 0x59a296d9d5a2 <unknown>\n#16 0x59a296d6fe98 <unknown>\n#17 0x59a296d9d76e <unknown>\n#18 0x59a296dbbc19 <unknown>\n#19 0x59a296d9d343 <unknown>\n#20 0x59a296d6e593 <unknown>\n#21 0x59a296d6ef5e <unknown>\n#22 0x59a296ffe88b <unknown>\n#23 0x59a2970027e5 <unknown>\n#24 0x59a296fec5b1 <unknown>\n#25 0x59a297003372 <unknown>\n#26 0x59a296fd18bf <unknown>\n#27 0x59a297029768 <unknown>\n#28 0x59a29702993b <unknown>\n#29 0x59a2970399f4 <unknown>\n#30 0x7629b9e94ac3 <unknown>\n",
     "output_type": "error",
     "traceback": [
      "\u001b[0;31m---------------------------------------------------------------------------\u001b[0m",
      "\u001b[0;31mWebDriverException\u001b[0m                        Traceback (most recent call last)",
      "Cell \u001b[0;32mIn[19], line 20\u001b[0m\n\u001b[1;32m     18\u001b[0m \u001b[38;5;28;01mfor\u001b[39;00m element \u001b[38;5;129;01min\u001b[39;00m taxonomy_elements:\n\u001b[1;32m     19\u001b[0m     \u001b[38;5;28;01mif\u001b[39;00m desiredText \u001b[38;5;129;01min\u001b[39;00m element\u001b[38;5;241m.\u001b[39mtext:\n\u001b[0;32m---> 20\u001b[0m         \u001b[43melement\u001b[49m\u001b[38;5;241;43m.\u001b[39;49m\u001b[43mclick\u001b[49m\u001b[43m(\u001b[49m\u001b[43m)\u001b[49m\n\u001b[1;32m     21\u001b[0m         time\u001b[38;5;241m.\u001b[39msleep(\u001b[38;5;241m3\u001b[39m)\n",
      "File \u001b[0;32m~/.local/lib/python3.10/site-packages/selenium/webdriver/remote/webelement.py:94\u001b[0m, in \u001b[0;36mWebElement.click\u001b[0;34m(self)\u001b[0m\n\u001b[1;32m     92\u001b[0m \u001b[38;5;28;01mdef\u001b[39;00m \u001b[38;5;21mclick\u001b[39m(\u001b[38;5;28mself\u001b[39m) \u001b[38;5;241m-\u001b[39m\u001b[38;5;241m>\u001b[39m \u001b[38;5;28;01mNone\u001b[39;00m:\n\u001b[1;32m     93\u001b[0m \u001b[38;5;250m    \u001b[39m\u001b[38;5;124;03m\"\"\"Clicks the element.\"\"\"\u001b[39;00m\n\u001b[0;32m---> 94\u001b[0m     \u001b[38;5;28;43mself\u001b[39;49m\u001b[38;5;241;43m.\u001b[39;49m\u001b[43m_execute\u001b[49m\u001b[43m(\u001b[49m\u001b[43mCommand\u001b[49m\u001b[38;5;241;43m.\u001b[39;49m\u001b[43mCLICK_ELEMENT\u001b[49m\u001b[43m)\u001b[49m\n",
      "File \u001b[0;32m~/.local/lib/python3.10/site-packages/selenium/webdriver/remote/webelement.py:395\u001b[0m, in \u001b[0;36mWebElement._execute\u001b[0;34m(self, command, params)\u001b[0m\n\u001b[1;32m    393\u001b[0m     params \u001b[38;5;241m=\u001b[39m {}\n\u001b[1;32m    394\u001b[0m params[\u001b[38;5;124m\"\u001b[39m\u001b[38;5;124mid\u001b[39m\u001b[38;5;124m\"\u001b[39m] \u001b[38;5;241m=\u001b[39m \u001b[38;5;28mself\u001b[39m\u001b[38;5;241m.\u001b[39m_id\n\u001b[0;32m--> 395\u001b[0m \u001b[38;5;28;01mreturn\u001b[39;00m \u001b[38;5;28;43mself\u001b[39;49m\u001b[38;5;241;43m.\u001b[39;49m\u001b[43m_parent\u001b[49m\u001b[38;5;241;43m.\u001b[39;49m\u001b[43mexecute\u001b[49m\u001b[43m(\u001b[49m\u001b[43mcommand\u001b[49m\u001b[43m,\u001b[49m\u001b[43m \u001b[49m\u001b[43mparams\u001b[49m\u001b[43m)\u001b[49m\n",
      "File \u001b[0;32m~/.local/lib/python3.10/site-packages/selenium/webdriver/remote/webdriver.py:347\u001b[0m, in \u001b[0;36mWebDriver.execute\u001b[0;34m(self, driver_command, params)\u001b[0m\n\u001b[1;32m    345\u001b[0m response \u001b[38;5;241m=\u001b[39m \u001b[38;5;28mself\u001b[39m\u001b[38;5;241m.\u001b[39mcommand_executor\u001b[38;5;241m.\u001b[39mexecute(driver_command, params)\n\u001b[1;32m    346\u001b[0m \u001b[38;5;28;01mif\u001b[39;00m response:\n\u001b[0;32m--> 347\u001b[0m     \u001b[38;5;28;43mself\u001b[39;49m\u001b[38;5;241;43m.\u001b[39;49m\u001b[43merror_handler\u001b[49m\u001b[38;5;241;43m.\u001b[39;49m\u001b[43mcheck_response\u001b[49m\u001b[43m(\u001b[49m\u001b[43mresponse\u001b[49m\u001b[43m)\u001b[49m\n\u001b[1;32m    348\u001b[0m     response[\u001b[38;5;124m\"\u001b[39m\u001b[38;5;124mvalue\u001b[39m\u001b[38;5;124m\"\u001b[39m] \u001b[38;5;241m=\u001b[39m \u001b[38;5;28mself\u001b[39m\u001b[38;5;241m.\u001b[39m_unwrap_value(response\u001b[38;5;241m.\u001b[39mget(\u001b[38;5;124m\"\u001b[39m\u001b[38;5;124mvalue\u001b[39m\u001b[38;5;124m\"\u001b[39m, \u001b[38;5;28;01mNone\u001b[39;00m))\n\u001b[1;32m    349\u001b[0m     \u001b[38;5;28;01mreturn\u001b[39;00m response\n",
      "File \u001b[0;32m~/.local/lib/python3.10/site-packages/selenium/webdriver/remote/errorhandler.py:229\u001b[0m, in \u001b[0;36mErrorHandler.check_response\u001b[0;34m(self, response)\u001b[0m\n\u001b[1;32m    227\u001b[0m         alert_text \u001b[38;5;241m=\u001b[39m value[\u001b[38;5;124m\"\u001b[39m\u001b[38;5;124malert\u001b[39m\u001b[38;5;124m\"\u001b[39m]\u001b[38;5;241m.\u001b[39mget(\u001b[38;5;124m\"\u001b[39m\u001b[38;5;124mtext\u001b[39m\u001b[38;5;124m\"\u001b[39m)\n\u001b[1;32m    228\u001b[0m     \u001b[38;5;28;01mraise\u001b[39;00m exception_class(message, screen, stacktrace, alert_text)  \u001b[38;5;66;03m# type: ignore[call-arg]  # mypy is not smart enough here\u001b[39;00m\n\u001b[0;32m--> 229\u001b[0m \u001b[38;5;28;01mraise\u001b[39;00m exception_class(message, screen, stacktrace)\n",
      "\u001b[0;31mWebDriverException\u001b[0m: Message: disconnected: unable to send message to renderer\n  (failed to check if window was closed: disconnected: not connected to DevTools)\n  (Session info: chrome=123.0.6312.86)\nStacktrace:\n#0 0x59a29703a8a3 <unknown>\n#1 0x59a296d308c6 <unknown>\n#2 0x59a296d177bf <unknown>\n#3 0x59a296d17745 <unknown>\n#4 0x59a296d16120 <unknown>\n#5 0x59a296d16b9f <unknown>\n#6 0x59a296d33e1f <unknown>\n#7 0x59a296d34796 <unknown>\n#8 0x59a296d37bce <unknown>\n#9 0x59a296d37c5c <unknown>\n#10 0x59a296d8214c <unknown>\n#11 0x59a296d8014e <unknown>\n#12 0x59a296d7db27 <unknown>\n#13 0x59a296d7ced3 <unknown>\n#14 0x59a296d70507 <unknown>\n#15 0x59a296d9d5a2 <unknown>\n#16 0x59a296d6fe98 <unknown>\n#17 0x59a296d9d76e <unknown>\n#18 0x59a296dbbc19 <unknown>\n#19 0x59a296d9d343 <unknown>\n#20 0x59a296d6e593 <unknown>\n#21 0x59a296d6ef5e <unknown>\n#22 0x59a296ffe88b <unknown>\n#23 0x59a2970027e5 <unknown>\n#24 0x59a296fec5b1 <unknown>\n#25 0x59a297003372 <unknown>\n#26 0x59a296fd18bf <unknown>\n#27 0x59a297029768 <unknown>\n#28 0x59a29702993b <unknown>\n#29 0x59a2970399f4 <unknown>\n#30 0x7629b9e94ac3 <unknown>\n"
     ]
    }
   ],
   "source": [
    "import selenium\n",
    "print(\"versión selenium:\", selenium.__version__)\n",
    "\n",
    "# Opciones de navegacion\n",
    "options = Options()\n",
    "options.add_argument('--start-maximized')\n",
    "options.add_argument('--disable-extensions')\n",
    "\n",
    "driver = webdriver.Chrome(service=Service(ChromeDriverManager().install()), options=options)\n",
    "driver.get('https://tmclass.tmdn.org/ec2/search/find?language=es&text=&niceClass=&size=25&page=1&harmonised=true&officeList=AR&searchMode=WORDSPREFIX&sortBy=relevance')\n",
    "\n",
    "time.sleep(3)\n",
    "\n",
    "tree = driver.find_element(By.CLASS_NAME, \"dynatree-container\");\n",
    "taxonomy_elements = tree.find_elements(By.CLASS_NAME, \"dynatree-node\")\n",
    "desiredText = \"Clase\"\n",
    "\n",
    "for taxonomy in taxonomy_elements:\n",
    "    if desiredText in element.text:\n",
    "        taxonomy.click()\n",
    "        time.sleep(3)"
   ]
  },
  {
   "cell_type": "code",
   "execution_count": 4,
   "metadata": {},
   "outputs": [
    {
     "data": {
      "text/plain": [
       "'/home/fsabatini/workspace/scrapy-INPI/scrapy-bot-INPI'"
      ]
     },
     "execution_count": 4,
     "metadata": {},
     "output_type": "execute_result"
    }
   ],
   "source": []
  }
 ],
 "metadata": {
  "kernelspec": {
   "display_name": "Python 3",
   "language": "python",
   "name": "python3"
  },
  "language_info": {
   "codemirror_mode": {
    "name": "ipython",
    "version": 3
   },
   "file_extension": ".py",
   "mimetype": "text/x-python",
   "name": "python",
   "nbconvert_exporter": "python",
   "pygments_lexer": "ipython3",
   "version": "3.10.12"
  }
 },
 "nbformat": 4,
 "nbformat_minor": 2
}
